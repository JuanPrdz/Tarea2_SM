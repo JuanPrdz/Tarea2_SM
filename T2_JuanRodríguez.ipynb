{
 "cells": [
  {
   "cell_type": "markdown",
   "metadata": {},
   "source": [
    "# Resumen de dos artículos de Python\n",
    "## 1º [Why Python is so popular with developers: 3 reasons the language has exploded](https://www.techrepublic.com/article/why-python-is-so-popular-with-developers-3-reasons-the-language-has-exploded/)\n",
    "Python es el lenguaje de programación con un mejor crecimiento que cualquier otro programa del mundo. Se ha vuelto muy popular por su basta cantidad de librerías que permiten a programadores de distinta índole a disfrutar de su versatilidad, ya que permite desde crear un website hasta una app. \n",
    "En el 2018 se convirtió en el lenguaje de programación más visitado del mundo, utilizado por industrias como la academia, manufactureras, electrónica, finanzas, energéticas, tecnológicas y gubernamentales. Hay tres razones principales que explican por qué Python está dominando:\n",
    "\n",
    "*1. Fácil de aprender*\n",
    "\n",
    "Al ser legible como el inglés, permite a los usuarios preocuparse menos por la sintaxis que se maneja, lo que permite que sea mucho más fácil de aprender que la mayoría de los lenguajes de programación.\n",
    "\n",
    "*2. La explosión de la IA, aprendizaje automático y ciencia de datos de la empresa*\n",
    "\n",
    "Python es una herramienta muy útil que las empresas han utilizado para crecer en la ciencia de datos y en la implementación de inteligencia artificial, realmente lo puedes utilizar para casi todo.\n",
    "\n",
    "*3. Gran comunidad de desarrolladores*\n",
    "\n",
    "Al ser tan amplia su utilidad, Python es utilizado desde los videojuegos, aplicaciones para la inteligencia artificial, y herramientas para la productividad, y a pesar de que es un lenguaje un poco más lento que por ejemplo Java, es más fácil de usar.\n",
    "\n",
    "## 2º [Programming language of the year? Python is standout in latest rankings](https://www.zdnet.com/article/programming-language-of-the-year-python-is-standout-in-latest-rankings/)\n",
    "Python se ha ganado su lugar entre los 3 lenguajes de programación más utilizados en todo el mundo. Es comunmente el lenguaje enseñado en las universidades del mundo, y también es el lenguaje más utilizado por los *hackers* gracias a su sintaxis fácil de leer. \n",
    "Actualmente estos son los 5 lenguajes de programación más utilizados:\n",
    "1. Java\n",
    "2. C\n",
    "3. Python\n",
    "4. C++\n",
    "5. Visual Basic\n",
    "\n"
   ]
  }
 ],
 "metadata": {
  "kernelspec": {
   "display_name": "Python 3",
   "language": "python",
   "name": "python3"
  },
  "language_info": {
   "codemirror_mode": {
    "name": "ipython",
    "version": 3
   },
   "file_extension": ".py",
   "mimetype": "text/x-python",
   "name": "python",
   "nbconvert_exporter": "python",
   "pygments_lexer": "ipython3",
   "version": "3.7.4"
  }
 },
 "nbformat": 4,
 "nbformat_minor": 2
}
